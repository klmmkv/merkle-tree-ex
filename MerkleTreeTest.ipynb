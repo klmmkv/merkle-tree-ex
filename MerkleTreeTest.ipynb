{
 "cells": [
  {
   "cell_type": "code",
   "execution_count": 27,
   "metadata": {},
   "outputs": [],
   "source": [
    "import merkletools\n",
    "import math\n",
    "\n",
    "def merkleRoot(inputlist):\n",
    "    \n",
    "    transactionl = math.floor(len(inputlist)/2)\n",
    "    mt = merkletools.MerkleTools()\n",
    "\n",
    "    mt.add_leaf(inputlist, True)\n",
    "    mt.make_tree()\n",
    "\n",
    "\n",
    "    merkleroot = mt.get_merkle_root()\n",
    "    merkleproof = mt.get_proof(transactionl)"
   ]
  },
  {
   "cell_type": "code",
   "execution_count": 28,
   "metadata": {},
   "outputs": [],
   "source": [
    "merkleRoot([\"a\",\"b\",\"c\"])"
   ]
  },
  {
   "cell_type": "code",
   "execution_count": 29,
   "metadata": {},
   "outputs": [
    {
     "data": {
      "text/html": [
       "<div>\n",
       "<style scoped>\n",
       "    .dataframe tbody tr th:only-of-type {\n",
       "        vertical-align: middle;\n",
       "    }\n",
       "\n",
       "    .dataframe tbody tr th {\n",
       "        vertical-align: top;\n",
       "    }\n",
       "\n",
       "    .dataframe thead th {\n",
       "        text-align: right;\n",
       "    }\n",
       "</style>\n",
       "<table border=\"1\" class=\"dataframe\">\n",
       "  <thead>\n",
       "    <tr style=\"text-align: right;\">\n",
       "      <th></th>\n",
       "      <th>transactions</th>\n",
       "      <th>merkleRoot</th>\n",
       "      <th>middleLeafMerkleProof</th>\n",
       "    </tr>\n",
       "  </thead>\n",
       "  <tbody>\n",
       "    <tr>\n",
       "      <th>0</th>\n",
       "      <td>a</td>\n",
       "      <td>ca978112ca1bbdcafac231b39a23dc4da786eff8147c4e...</td>\n",
       "      <td>[]</td>\n",
       "    </tr>\n",
       "    <tr>\n",
       "      <th>1</th>\n",
       "      <td>a,b</td>\n",
       "      <td>e5a01fee14e0ed5c48714f22180f25ad8365b53f9779f7...</td>\n",
       "      <td>[{\"left\":\"ca978112ca1bbdcafac231b39a23dc4da786...</td>\n",
       "    </tr>\n",
       "    <tr>\n",
       "      <th>2</th>\n",
       "      <td>a,b,c</td>\n",
       "      <td>7075152d03a5cd92104887b476862778ec0c87be5c2fa1...</td>\n",
       "      <td>[{\"left\":\"ca978112ca1bbdcafac231b39a23dc4da786...</td>\n",
       "    </tr>\n",
       "    <tr>\n",
       "      <th>3</th>\n",
       "      <td>a,b,c,d</td>\n",
       "      <td>NaN</td>\n",
       "      <td>NaN</td>\n",
       "    </tr>\n",
       "    <tr>\n",
       "      <th>4</th>\n",
       "      <td>a,c,b,d</td>\n",
       "      <td>NaN</td>\n",
       "      <td>NaN</td>\n",
       "    </tr>\n",
       "    <tr>\n",
       "      <th>5</th>\n",
       "      <td>d,c,b,a</td>\n",
       "      <td>NaN</td>\n",
       "      <td>NaN</td>\n",
       "    </tr>\n",
       "    <tr>\n",
       "      <th>6</th>\n",
       "      <td>a,b,c,d,e</td>\n",
       "      <td>NaN</td>\n",
       "      <td>NaN</td>\n",
       "    </tr>\n",
       "    <tr>\n",
       "      <th>7</th>\n",
       "      <td>a,b,c,d,e,f</td>\n",
       "      <td>NaN</td>\n",
       "      <td>NaN</td>\n",
       "    </tr>\n",
       "    <tr>\n",
       "      <th>8</th>\n",
       "      <td>a,b,c,d,e,f,g</td>\n",
       "      <td>NaN</td>\n",
       "      <td>NaN</td>\n",
       "    </tr>\n",
       "    <tr>\n",
       "      <th>9</th>\n",
       "      <td>a,b,c,d,e,f,g,h</td>\n",
       "      <td>NaN</td>\n",
       "      <td>NaN</td>\n",
       "    </tr>\n",
       "  </tbody>\n",
       "</table>\n",
       "</div>"
      ],
      "text/plain": [
       "      transactions                                         merkleRoot  \\\n",
       "0                a  ca978112ca1bbdcafac231b39a23dc4da786eff8147c4e...   \n",
       "1              a,b  e5a01fee14e0ed5c48714f22180f25ad8365b53f9779f7...   \n",
       "2            a,b,c  7075152d03a5cd92104887b476862778ec0c87be5c2fa1...   \n",
       "3          a,b,c,d                                                NaN   \n",
       "4          a,c,b,d                                                NaN   \n",
       "5          d,c,b,a                                                NaN   \n",
       "6        a,b,c,d,e                                                NaN   \n",
       "7      a,b,c,d,e,f                                                NaN   \n",
       "8    a,b,c,d,e,f,g                                                NaN   \n",
       "9  a,b,c,d,e,f,g,h                                                NaN   \n",
       "\n",
       "                               middleLeafMerkleProof  \n",
       "0                                                 []  \n",
       "1  [{\"left\":\"ca978112ca1bbdcafac231b39a23dc4da786...  \n",
       "2  [{\"left\":\"ca978112ca1bbdcafac231b39a23dc4da786...  \n",
       "3                                                NaN  \n",
       "4                                                NaN  \n",
       "5                                                NaN  \n",
       "6                                                NaN  \n",
       "7                                                NaN  \n",
       "8                                                NaN  \n",
       "9                                                NaN  "
      ]
     },
     "execution_count": 29,
     "metadata": {},
     "output_type": "execute_result"
    }
   ],
   "source": [
    "import pandas as pd\n",
    "df = pd.read_csv('./datamerkm.csv')\n",
    "\n",
    "df"
   ]
  },
  {
   "cell_type": "code",
   "execution_count": 48,
   "metadata": {},
   "outputs": [
    {
     "data": {
      "text/plain": [
       "'a,c,b,d'"
      ]
     },
     "execution_count": 48,
     "metadata": {},
     "output_type": "execute_result"
    }
   ],
   "source": [
    "df.loc[4][0]"
   ]
  },
  {
   "cell_type": "code",
   "execution_count": 31,
   "metadata": {},
   "outputs": [
    {
     "data": {
      "text/plain": [
       "transactions                                                             a\n",
       "merkleRoot               ca978112ca1bbdcafac231b39a23dc4da786eff8147c4e...\n",
       "middleLeafMerkleProof                                                   []\n",
       "Name: 0, dtype: object"
      ]
     },
     "execution_count": 31,
     "metadata": {},
     "output_type": "execute_result"
    }
   ],
   "source": [
    "df.iloc[0]"
   ]
  },
  {
   "cell_type": "code",
   "execution_count": 32,
   "metadata": {},
   "outputs": [
    {
     "data": {
      "text/plain": [
       "(RangeIndex(start=0, stop=10, step=1),\n",
       " Index(['transactions', 'merkleRoot', 'middleLeafMerkleProof'], dtype='object'))"
      ]
     },
     "execution_count": 32,
     "metadata": {},
     "output_type": "execute_result"
    }
   ],
   "source": [
    "df.index, df.columns"
   ]
  },
  {
   "cell_type": "code",
   "execution_count": 33,
   "metadata": {},
   "outputs": [
    {
     "data": {
      "text/plain": [
       "0                  a\n",
       "1                a,b\n",
       "2              a,b,c\n",
       "3            a,b,c,d\n",
       "4            a,c,b,d\n",
       "5            d,c,b,a\n",
       "6          a,b,c,d,e\n",
       "7        a,b,c,d,e,f\n",
       "8      a,b,c,d,e,f,g\n",
       "9    a,b,c,d,e,f,g,h\n",
       "Name: transactions, dtype: object"
      ]
     },
     "execution_count": 33,
     "metadata": {},
     "output_type": "execute_result"
    }
   ],
   "source": [
    "df[\"transactions\"]"
   ]
  },
  {
   "cell_type": "code",
   "execution_count": 53,
   "metadata": {},
   "outputs": [
    {
     "data": {
      "text/html": [
       "<div>\n",
       "<style scoped>\n",
       "    .dataframe tbody tr th:only-of-type {\n",
       "        vertical-align: middle;\n",
       "    }\n",
       "\n",
       "    .dataframe tbody tr th {\n",
       "        vertical-align: top;\n",
       "    }\n",
       "\n",
       "    .dataframe thead th {\n",
       "        text-align: right;\n",
       "    }\n",
       "</style>\n",
       "<table border=\"1\" class=\"dataframe\">\n",
       "  <thead>\n",
       "    <tr style=\"text-align: right;\">\n",
       "      <th></th>\n",
       "      <th>transactions</th>\n",
       "      <th>merkleRoot</th>\n",
       "      <th>middleLeafMerkleProof</th>\n",
       "      <th>transaction_list</th>\n",
       "      <th>transactions_list</th>\n",
       "    </tr>\n",
       "  </thead>\n",
       "  <tbody>\n",
       "    <tr>\n",
       "      <th>0</th>\n",
       "      <td>a</td>\n",
       "      <td>ca978112ca1bbdcafac231b39a23dc4da786eff8147c4e...</td>\n",
       "      <td>[]</td>\n",
       "      <td>[a]</td>\n",
       "      <td>[a]</td>\n",
       "    </tr>\n",
       "    <tr>\n",
       "      <th>1</th>\n",
       "      <td>a,b</td>\n",
       "      <td>e5a01fee14e0ed5c48714f22180f25ad8365b53f9779f7...</td>\n",
       "      <td>[{\"left\":\"ca978112ca1bbdcafac231b39a23dc4da786...</td>\n",
       "      <td>[a, b]</td>\n",
       "      <td>[a, b]</td>\n",
       "    </tr>\n",
       "    <tr>\n",
       "      <th>2</th>\n",
       "      <td>a,b,c</td>\n",
       "      <td>7075152d03a5cd92104887b476862778ec0c87be5c2fa1...</td>\n",
       "      <td>[{\"left\":\"ca978112ca1bbdcafac231b39a23dc4da786...</td>\n",
       "      <td>[a, b, c]</td>\n",
       "      <td>[a, b, c]</td>\n",
       "    </tr>\n",
       "    <tr>\n",
       "      <th>3</th>\n",
       "      <td>a,b,c,d</td>\n",
       "      <td>NaN</td>\n",
       "      <td>NaN</td>\n",
       "      <td>[a, b, c, d]</td>\n",
       "      <td>[a, b, c, d]</td>\n",
       "    </tr>\n",
       "    <tr>\n",
       "      <th>4</th>\n",
       "      <td>a,c,b,d</td>\n",
       "      <td>NaN</td>\n",
       "      <td>NaN</td>\n",
       "      <td>[a, c, b, d]</td>\n",
       "      <td>[a, c, b, d]</td>\n",
       "    </tr>\n",
       "    <tr>\n",
       "      <th>5</th>\n",
       "      <td>d,c,b,a</td>\n",
       "      <td>NaN</td>\n",
       "      <td>NaN</td>\n",
       "      <td>[d, c, b, a]</td>\n",
       "      <td>[d, c, b, a]</td>\n",
       "    </tr>\n",
       "    <tr>\n",
       "      <th>6</th>\n",
       "      <td>a,b,c,d,e</td>\n",
       "      <td>NaN</td>\n",
       "      <td>NaN</td>\n",
       "      <td>[a, b, c, d, e]</td>\n",
       "      <td>[a, b, c, d, e]</td>\n",
       "    </tr>\n",
       "    <tr>\n",
       "      <th>7</th>\n",
       "      <td>a,b,c,d,e,f</td>\n",
       "      <td>NaN</td>\n",
       "      <td>NaN</td>\n",
       "      <td>[a, b, c, d, e, f]</td>\n",
       "      <td>[a, b, c, d, e, f]</td>\n",
       "    </tr>\n",
       "    <tr>\n",
       "      <th>8</th>\n",
       "      <td>a,b,c,d,e,f,g</td>\n",
       "      <td>NaN</td>\n",
       "      <td>NaN</td>\n",
       "      <td>[a, b, c, d, e, f, g]</td>\n",
       "      <td>[a, b, c, d, e, f, g]</td>\n",
       "    </tr>\n",
       "    <tr>\n",
       "      <th>9</th>\n",
       "      <td>a,b,c,d,e,f,g,h</td>\n",
       "      <td>NaN</td>\n",
       "      <td>NaN</td>\n",
       "      <td>[a, b, c, d, e, f, g, h]</td>\n",
       "      <td>[a, b, c, d, e, f, g, h]</td>\n",
       "    </tr>\n",
       "  </tbody>\n",
       "</table>\n",
       "</div>"
      ],
      "text/plain": [
       "      transactions                                         merkleRoot  \\\n",
       "0                a  ca978112ca1bbdcafac231b39a23dc4da786eff8147c4e...   \n",
       "1              a,b  e5a01fee14e0ed5c48714f22180f25ad8365b53f9779f7...   \n",
       "2            a,b,c  7075152d03a5cd92104887b476862778ec0c87be5c2fa1...   \n",
       "3          a,b,c,d                                                NaN   \n",
       "4          a,c,b,d                                                NaN   \n",
       "5          d,c,b,a                                                NaN   \n",
       "6        a,b,c,d,e                                                NaN   \n",
       "7      a,b,c,d,e,f                                                NaN   \n",
       "8    a,b,c,d,e,f,g                                                NaN   \n",
       "9  a,b,c,d,e,f,g,h                                                NaN   \n",
       "\n",
       "                               middleLeafMerkleProof  \\\n",
       "0                                                 []   \n",
       "1  [{\"left\":\"ca978112ca1bbdcafac231b39a23dc4da786...   \n",
       "2  [{\"left\":\"ca978112ca1bbdcafac231b39a23dc4da786...   \n",
       "3                                                NaN   \n",
       "4                                                NaN   \n",
       "5                                                NaN   \n",
       "6                                                NaN   \n",
       "7                                                NaN   \n",
       "8                                                NaN   \n",
       "9                                                NaN   \n",
       "\n",
       "           transaction_list         transactions_list  \n",
       "0                       [a]                       [a]  \n",
       "1                    [a, b]                    [a, b]  \n",
       "2                 [a, b, c]                 [a, b, c]  \n",
       "3              [a, b, c, d]              [a, b, c, d]  \n",
       "4              [a, c, b, d]              [a, c, b, d]  \n",
       "5              [d, c, b, a]              [d, c, b, a]  \n",
       "6           [a, b, c, d, e]           [a, b, c, d, e]  \n",
       "7        [a, b, c, d, e, f]        [a, b, c, d, e, f]  \n",
       "8     [a, b, c, d, e, f, g]     [a, b, c, d, e, f, g]  \n",
       "9  [a, b, c, d, e, f, g, h]  [a, b, c, d, e, f, g, h]  "
      ]
     },
     "execution_count": 53,
     "metadata": {},
     "output_type": "execute_result"
    }
   ],
   "source": [
    "list1 = []\n",
    "\n",
    "df['transactions_list'] = df['transactions'].str.split(',')\n",
    "df\n",
    "    "
   ]
  },
  {
   "cell_type": "code",
   "execution_count": 54,
   "metadata": {},
   "outputs": [
    {
     "name": "stdout",
     "output_type": "stream",
     "text": [
      "['a']\n",
      "['a', 'b']\n",
      "['a', 'b', 'c']\n",
      "['a', 'b', 'c', 'd']\n",
      "['a', 'c', 'b', 'd']\n",
      "['d', 'c', 'b', 'a']\n",
      "['a', 'b', 'c', 'd', 'e']\n",
      "['a', 'b', 'c', 'd', 'e', 'f']\n",
      "['a', 'b', 'c', 'd', 'e', 'f', 'g']\n",
      "['a', 'b', 'c', 'd', 'e', 'f', 'g', 'h']\n"
     ]
    }
   ],
   "source": [
    "for i in df['transactions_list']:\n",
    "    print(i)"
   ]
  },
  {
   "cell_type": "code",
   "execution_count": 56,
   "metadata": {},
   "outputs": [],
   "source": [
    "transactions = []\n",
    "merkleRoot = []\n",
    "middleLeafMerkleProof = []\n",
    "\n",
    "def merkleRootIt(inputlist):\n",
    "    \n",
    "    \n",
    "    transactionl = math.floor(len(inputlist)/2)\n",
    "    mt = merkletools.MerkleTools()\n",
    "\n",
    "    mt.add_leaf(inputlist, True)\n",
    "    mt.make_tree()\n",
    "\n",
    "\n",
    "    merkleroot = mt.get_merkle_root()\n",
    "    merkleproof = mt.get_proof(transactionl)\n",
    "    \n",
    "    transactions.append(i)\n",
    "    merkleRoot.append(merkleroot)\n",
    "    middleLeafMerkleProof.append(merkleproof)"
   ]
  },
  {
   "cell_type": "code",
   "execution_count": 57,
   "metadata": {},
   "outputs": [],
   "source": [
    "for i in df[\"transactions_list\"]:\n",
    "    merkleRootIt(i)\n",
    "\n",
    "\n",
    "#transactions.append(i)\n",
    "#merkleRoot.append(merkleroot)\n",
    "#midlleLeafMerkleProof.append(merkleproof)\n",
    "        "
   ]
  },
  {
   "cell_type": "code",
   "execution_count": 61,
   "metadata": {},
   "outputs": [
    {
     "name": "stdout",
     "output_type": "stream",
     "text": [
      "[['a'], ['a', 'b'], ['a', 'b', 'c'], ['a', 'b', 'c', 'd'], ['a', 'c', 'b', 'd'], ['d', 'c', 'b', 'a'], ['a', 'b', 'c', 'd', 'e'], ['a', 'b', 'c', 'd', 'e', 'f'], ['a', 'b', 'c', 'd', 'e', 'f', 'g'], ['a', 'b', 'c', 'd', 'e', 'f', 'g', 'h']]\n",
      "['ca978112ca1bbdcafac231b39a23dc4da786eff8147c4e72b9807785afee48bb', 'e5a01fee14e0ed5c48714f22180f25ad8365b53f9779f79dc4a3d7e93963f94a', '7075152d03a5cd92104887b476862778ec0c87be5c2fa1c0a90f87c49fad6eff', '14ede5e8e97ad9372327728f5099b95604a39593cac3bd38a343ad76205213e7', '7760d75cbe60027cb664f1690d312ff92195bf7c7b31a693b341b329d221e2eb', '818b251140a05ac57b52ab1399d8b57c864077eb70c9a8c6970539b8a26b39fc', 'd71f8983ad4ee170f8129f1ebcdd7440be7798d8e1c80420bf11f1eced610dba', '1f7379539707bcaea00564168d1d4d626b09b73f8a2a365234c62d763f854da2', 'e2a80e0e872a6c6eaed37b4c1f220e1935004805585b5f99617e48e9c8fe4034', 'bd7c8a900be9b67ba7df5c78a652a8474aedd78adb5083e80e49d9479138a23f']\n",
      "[[], [{'left': 'ca978112ca1bbdcafac231b39a23dc4da786eff8147c4e72b9807785afee48bb'}], [{'left': 'ca978112ca1bbdcafac231b39a23dc4da786eff8147c4e72b9807785afee48bb'}, {'right': '2e7d2c03a9507ae265ecf5b5356885a53393a2029d241394997265a1a25aefc6'}], [{'right': '18ac3e7343f016890c510e93f935261169d9e3f565436429830faf0934f4f8e4'}, {'left': 'e5a01fee14e0ed5c48714f22180f25ad8365b53f9779f79dc4a3d7e93963f94a'}], [{'right': '18ac3e7343f016890c510e93f935261169d9e3f565436429830faf0934f4f8e4'}, {'left': 'a49c7c8b9aca10635b2481820b832847a81a24fd01379580af97a593b2d5f1a2'}], [{'right': 'ca978112ca1bbdcafac231b39a23dc4da786eff8147c4e72b9807785afee48bb'}, {'left': '800e03ddb2432933692401d1631850c0af91953fd9c8f3874488c0541dfcf413'}], [{'right': '18ac3e7343f016890c510e93f935261169d9e3f565436429830faf0934f4f8e4'}, {'left': 'e5a01fee14e0ed5c48714f22180f25ad8365b53f9779f79dc4a3d7e93963f94a'}, {'right': '3f79bb7b435b05321651daefd374cdc681dc06faa65e374e38337b88ca046dea'}], [{'left': '2e7d2c03a9507ae265ecf5b5356885a53393a2029d241394997265a1a25aefc6'}, {'left': 'e5a01fee14e0ed5c48714f22180f25ad8365b53f9779f79dc4a3d7e93963f94a'}, {'right': '04fa33f8b4bd3db545fa04cdd51b462509f611797c7bfe5c944ee2bb3b2ed908'}], [{'left': '2e7d2c03a9507ae265ecf5b5356885a53393a2029d241394997265a1a25aefc6'}, {'left': 'e5a01fee14e0ed5c48714f22180f25ad8365b53f9779f79dc4a3d7e93963f94a'}, {'right': '7bd24d9b51b2b440821e6acbe8611919b43eb9cabcfc4d7b637ce4558c5ecded'}], [{'right': '252f10c83610ebca1a059c0bae8255eba2f95be4d1d7bcfa89d7248a82d9f111'}, {'right': '140257c1540113794d2ae3394879e586ca5caebca19663ff87417892cf36fd23'}, {'left': '14ede5e8e97ad9372327728f5099b95604a39593cac3bd38a343ad76205213e7'}]]\n"
     ]
    }
   ],
   "source": [
    "df"
   ]
  },
  {
   "cell_type": "code",
   "execution_count": 62,
   "metadata": {},
   "outputs": [
    {
     "data": {
      "text/html": [
       "<div>\n",
       "<style scoped>\n",
       "    .dataframe tbody tr th:only-of-type {\n",
       "        vertical-align: middle;\n",
       "    }\n",
       "\n",
       "    .dataframe tbody tr th {\n",
       "        vertical-align: top;\n",
       "    }\n",
       "\n",
       "    .dataframe thead th {\n",
       "        text-align: right;\n",
       "    }\n",
       "</style>\n",
       "<table border=\"1\" class=\"dataframe\">\n",
       "  <thead>\n",
       "    <tr style=\"text-align: right;\">\n",
       "      <th></th>\n",
       "      <th>transactions</th>\n",
       "      <th>merkleRoot</th>\n",
       "      <th>middleLeafMerkleProof</th>\n",
       "    </tr>\n",
       "  </thead>\n",
       "  <tbody>\n",
       "    <tr>\n",
       "      <th>0</th>\n",
       "      <td>[a]</td>\n",
       "      <td>ca978112ca1bbdcafac231b39a23dc4da786eff8147c4e...</td>\n",
       "      <td>[]</td>\n",
       "    </tr>\n",
       "    <tr>\n",
       "      <th>1</th>\n",
       "      <td>[a, b]</td>\n",
       "      <td>e5a01fee14e0ed5c48714f22180f25ad8365b53f9779f7...</td>\n",
       "      <td>[{'left': 'ca978112ca1bbdcafac231b39a23dc4da78...</td>\n",
       "    </tr>\n",
       "    <tr>\n",
       "      <th>2</th>\n",
       "      <td>[a, b, c]</td>\n",
       "      <td>7075152d03a5cd92104887b476862778ec0c87be5c2fa1...</td>\n",
       "      <td>[{'left': 'ca978112ca1bbdcafac231b39a23dc4da78...</td>\n",
       "    </tr>\n",
       "    <tr>\n",
       "      <th>3</th>\n",
       "      <td>[a, b, c, d]</td>\n",
       "      <td>14ede5e8e97ad9372327728f5099b95604a39593cac3bd...</td>\n",
       "      <td>[{'right': '18ac3e7343f016890c510e93f935261169...</td>\n",
       "    </tr>\n",
       "    <tr>\n",
       "      <th>4</th>\n",
       "      <td>[a, c, b, d]</td>\n",
       "      <td>7760d75cbe60027cb664f1690d312ff92195bf7c7b31a6...</td>\n",
       "      <td>[{'right': '18ac3e7343f016890c510e93f935261169...</td>\n",
       "    </tr>\n",
       "    <tr>\n",
       "      <th>5</th>\n",
       "      <td>[d, c, b, a]</td>\n",
       "      <td>818b251140a05ac57b52ab1399d8b57c864077eb70c9a8...</td>\n",
       "      <td>[{'right': 'ca978112ca1bbdcafac231b39a23dc4da7...</td>\n",
       "    </tr>\n",
       "    <tr>\n",
       "      <th>6</th>\n",
       "      <td>[a, b, c, d, e]</td>\n",
       "      <td>d71f8983ad4ee170f8129f1ebcdd7440be7798d8e1c804...</td>\n",
       "      <td>[{'right': '18ac3e7343f016890c510e93f935261169...</td>\n",
       "    </tr>\n",
       "    <tr>\n",
       "      <th>7</th>\n",
       "      <td>[a, b, c, d, e, f]</td>\n",
       "      <td>1f7379539707bcaea00564168d1d4d626b09b73f8a2a36...</td>\n",
       "      <td>[{'left': '2e7d2c03a9507ae265ecf5b5356885a5339...</td>\n",
       "    </tr>\n",
       "    <tr>\n",
       "      <th>8</th>\n",
       "      <td>[a, b, c, d, e, f, g]</td>\n",
       "      <td>e2a80e0e872a6c6eaed37b4c1f220e1935004805585b5f...</td>\n",
       "      <td>[{'left': '2e7d2c03a9507ae265ecf5b5356885a5339...</td>\n",
       "    </tr>\n",
       "    <tr>\n",
       "      <th>9</th>\n",
       "      <td>[a, b, c, d, e, f, g, h]</td>\n",
       "      <td>bd7c8a900be9b67ba7df5c78a652a8474aedd78adb5083...</td>\n",
       "      <td>[{'right': '252f10c83610ebca1a059c0bae8255eba2...</td>\n",
       "    </tr>\n",
       "  </tbody>\n",
       "</table>\n",
       "</div>"
      ],
      "text/plain": [
       "               transactions  \\\n",
       "0                       [a]   \n",
       "1                    [a, b]   \n",
       "2                 [a, b, c]   \n",
       "3              [a, b, c, d]   \n",
       "4              [a, c, b, d]   \n",
       "5              [d, c, b, a]   \n",
       "6           [a, b, c, d, e]   \n",
       "7        [a, b, c, d, e, f]   \n",
       "8     [a, b, c, d, e, f, g]   \n",
       "9  [a, b, c, d, e, f, g, h]   \n",
       "\n",
       "                                          merkleRoot  \\\n",
       "0  ca978112ca1bbdcafac231b39a23dc4da786eff8147c4e...   \n",
       "1  e5a01fee14e0ed5c48714f22180f25ad8365b53f9779f7...   \n",
       "2  7075152d03a5cd92104887b476862778ec0c87be5c2fa1...   \n",
       "3  14ede5e8e97ad9372327728f5099b95604a39593cac3bd...   \n",
       "4  7760d75cbe60027cb664f1690d312ff92195bf7c7b31a6...   \n",
       "5  818b251140a05ac57b52ab1399d8b57c864077eb70c9a8...   \n",
       "6  d71f8983ad4ee170f8129f1ebcdd7440be7798d8e1c804...   \n",
       "7  1f7379539707bcaea00564168d1d4d626b09b73f8a2a36...   \n",
       "8  e2a80e0e872a6c6eaed37b4c1f220e1935004805585b5f...   \n",
       "9  bd7c8a900be9b67ba7df5c78a652a8474aedd78adb5083...   \n",
       "\n",
       "                               middleLeafMerkleProof  \n",
       "0                                                 []  \n",
       "1  [{'left': 'ca978112ca1bbdcafac231b39a23dc4da78...  \n",
       "2  [{'left': 'ca978112ca1bbdcafac231b39a23dc4da78...  \n",
       "3  [{'right': '18ac3e7343f016890c510e93f935261169...  \n",
       "4  [{'right': '18ac3e7343f016890c510e93f935261169...  \n",
       "5  [{'right': 'ca978112ca1bbdcafac231b39a23dc4da7...  \n",
       "6  [{'right': '18ac3e7343f016890c510e93f935261169...  \n",
       "7  [{'left': '2e7d2c03a9507ae265ecf5b5356885a5339...  \n",
       "8  [{'left': '2e7d2c03a9507ae265ecf5b5356885a5339...  \n",
       "9  [{'right': '252f10c83610ebca1a059c0bae8255eba2...  "
      ]
     },
     "execution_count": 62,
     "metadata": {},
     "output_type": "execute_result"
    }
   ],
   "source": [
    "df3 = pd.DataFrame(list(zip(transactions, merkleRoot, middleLeafMerkleProof)),\n",
    "               columns =['transactions', 'merkleRoot', 'middleLeafMerkleProof'])\n",
    "df3"
   ]
  },
  {
   "cell_type": "code",
   "execution_count": null,
   "metadata": {},
   "outputs": [],
   "source": []
  }
 ],
 "metadata": {
  "kernelspec": {
   "display_name": "Python 3",
   "language": "python",
   "name": "python3"
  },
  "language_info": {
   "codemirror_mode": {
    "name": "ipython",
    "version": 3
   },
   "file_extension": ".py",
   "mimetype": "text/x-python",
   "name": "python",
   "nbconvert_exporter": "python",
   "pygments_lexer": "ipython3",
   "version": "3.8.2"
  }
 },
 "nbformat": 4,
 "nbformat_minor": 4
}
